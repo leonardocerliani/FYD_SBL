{
 "cells": [
  {
   "cell_type": "markdown",
   "metadata": {},
   "source": [
    "# Define json template and project label\n",
    "\n",
    "The fields in the json template *must* reflect the values that have been *already* registered on FYD.\n",
    "\n",
    "It is assumed that the user already generated a file named `list_subj.txt` which contains exclusively one sub_id (e.g. `sub-02`) per line and nothing else.\n",
    "\n",
    "The final json files will be saved in a dir called `generated_jsons` with the filename and subject field reflecting both the sub_id and the `project_label`. This is necessary because FYD requires the sub_id to be unique across all projects in a lab (!)\n",
    "\n",
    "To reply to your comment: yes, the code is not great, but due to a series of circumstances, for the moment it will have to do."
   ]
  },
  {
   "cell_type": "code",
   "execution_count": null,
   "metadata": {},
   "outputs": [],
   "source": [
    "import json\n",
    "import os\n",
    "from datetime import date\n",
    "\n",
    "project_label = \"7T_Emotion_Insula\"\n",
    "\n",
    "json_template = {\n",
    "    \"project\": \"7T_emotion_insula\",\n",
    "    \"dataset\": \"MRI_Emotion_observation\",\n",
    "    \"condition\": \"Emotion_Movies\",\n",
    "    \"subject\": \"SUB_ID\",\n",
    "    \"stimulus\": \"emotion_faces_videos\",\n",
    "    \"setup\": \"fMRI_7T\",\n",
    "    \"investigator\": \"LeonardoCerliani\",\n",
    "    \"date\": \"2024-01-01\",\n",
    "    \"version\": \"1.0\",\n",
    "    \"logfile\": \"\",\n",
    "    \"comment\": \"\"\n",
    "}\n",
    "\n",
    "json_filename_template = f\"SUB_ID_{project_label}_session.json\"\n"
   ]
  },
  {
   "cell_type": "code",
   "execution_count": 11,
   "metadata": {},
   "outputs": [
    {
     "name": "stdout",
     "output_type": "stream",
     "text": [
      "['sub-02', 'sub-03', 'sub-05', 'sub-07', 'sub-09', 'sub-10', 'sub-11', 'sub-12', 'sub-14', 'sub-15', 'sub-16', 'sub-18', 'sub-19', 'sub-20', 'sub-21', 'sub-22', 'sub-23', 'sub-24', 'sub-26', 'sub-27', 'sub-28', 'sub-29', 'sub-30', 'sub-31', 'sub-32', 'sub-34']\n"
     ]
    }
   ],
   "source": [
    "# Read sub_list.txt and store subjects in a list\n",
    "subs = []\n",
    "with open(\"list_subj.txt\", \"r\") as file:\n",
    "    subs = [line.strip() for line in file]  # Remove any trailing newlines or spaces\n",
    "\n",
    "# Print the loaded subjects\n",
    "print(subs)"
   ]
  },
  {
   "cell_type": "code",
   "execution_count": 12,
   "metadata": {},
   "outputs": [
    {
     "name": "stdout",
     "output_type": "stream",
     "text": [
      "✅ All JSON files have been generated in 'generated_jsons' with no whitespace!\n"
     ]
    }
   ],
   "source": [
    "# Create the output directory if it doesn't exist\n",
    "output_dir = \"generated_jsons\"\n",
    "os.makedirs(output_dir, exist_ok=True)\n",
    "\n",
    "# Loop over each subject and generate a JSON file inside the folder\n",
    "for sub in subs:\n",
    "    # Create a new JSON object replacing \"SUB_ID\"\n",
    "    json_data = json_template.copy()\n",
    "    json_data[\"subject\"] = f\"{sub}_{project_label}\"\n",
    "    json_data[\"logfile\"] = f\"{sub}_{date.today()}.log\"\n",
    "\n",
    "    # Generate the filename correctly\n",
    "    json_filename = json_filename_template.replace(\"SUB_ID\", sub)\n",
    "    json_filepath = os.path.join(output_dir, json_filename)  # Save inside the folder\n",
    "\n",
    "    # # Print indented JSON to the screen\n",
    "    # print(json.dumps(json_data, indent=4))\n",
    "\n",
    "    # Save minified JSON (no whitespace) to file\n",
    "    with open(json_filepath, \"w\") as json_file:\n",
    "        json.dump(json_data, json_file, separators=(\",\", \":\"))  # Minified format\n",
    "\n",
    "    # print(f\"✅ Saved: {json_filepath}\")\n",
    "\n",
    "print(\"✅ All JSON files have been generated in 'generated_jsons' with no whitespace!\")"
   ]
  }
 ],
 "metadata": {
  "kernelspec": {
   "display_name": "Python 3 (ipykernel)",
   "language": "python",
   "name": "python3"
  },
  "language_info": {
   "codemirror_mode": {
    "name": "ipython",
    "version": 3
   },
   "file_extension": ".py",
   "mimetype": "text/x-python",
   "name": "python",
   "nbconvert_exporter": "python",
   "pygments_lexer": "ipython3",
   "version": "3.12.9"
  }
 },
 "nbformat": 4,
 "nbformat_minor": 4
}
